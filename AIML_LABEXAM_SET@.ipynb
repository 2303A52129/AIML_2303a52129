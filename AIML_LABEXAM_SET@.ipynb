{
  "nbformat": 4,
  "nbformat_minor": 0,
  "metadata": {
    "colab": {
      "provenance": [],
      "authorship_tag": "ABX9TyOObAgBqmMa+p+oqzVcgaW2",
      "include_colab_link": true
    },
    "kernelspec": {
      "name": "python3",
      "display_name": "Python 3"
    },
    "language_info": {
      "name": "python"
    }
  },
  "cells": [
    {
      "cell_type": "markdown",
      "metadata": {
        "id": "view-in-github",
        "colab_type": "text"
      },
      "source": [
        "<a href=\"https://colab.research.google.com/github/2303A52129/AIML_2303a52129/blob/main/AIML_LABEXAM_SET%40.ipynb\" target=\"_parent\"><img src=\"https://colab.research.google.com/assets/colab-badge.svg\" alt=\"Open In Colab\"/></a>"
      ]
    },
    {
      "cell_type": "markdown",
      "source": [
        "LOGISTIC REGGRESSION"
      ],
      "metadata": {
        "id": "qS22S2isubqo"
      }
    },
    {
      "cell_type": "code",
      "source": [
        "import pandas as pd\n",
        "from sklearn.model_selection import train_test_split\n",
        "from sklearn.linear_model import LogisticRegression\n",
        "from sklearn.preprocessing import StandardScaler, LabelEncoder\n",
        "from sklearn.metrics import confusion_matrix, accuracy_score, f1_score, classification_report\n",
        "\n",
        "file_path = \"/content/archive.zip\"\n",
        "data = pd.read_csv(file_path)\n",
        "\n",
        "data['High_Attendance'] = (data['attendance'] >= 80).astype(int)\n",
        "\n",
        "numerical_features = ['family_size', 'english', 'math', 'science', 'social_science', 'art_culture']\n",
        "categorical_features = ['gender', 'mother_education', 'father_education', 'school_type']\n",
        "\n",
        "encoder = LabelEncoder()\n",
        "for col in categorical_features:\n",
        "    data[col] = encoder.fit_transform(data[col])\n",
        "\n",
        "X = data[numerical_features + categorical_features]\n",
        "y = data['High_Attendance']\n",
        "\n",
        "scaler = StandardScaler()\n",
        "X[numerical_features] = scaler.fit_transform(X[numerical_features])\n",
        "\n",
        "X_train, X_test, y_train, y_test = train_test_split(X, y, test_size=0.2, random_state=42, stratify=y)\n",
        "\n",
        "model = LogisticRegression(random_state=42, max_iter=1000)\n",
        "model.fit(X_train, y_train)\n",
        "\n",
        "y_pred = model.predict(X_test)\n",
        "\n",
        "conf_matrix = confusion_matrix(y_test, y_pred)\n",
        "accuracy = accuracy_score(y_test, y_pred)\n",
        "f1 = f1_score(y_test, y_pred)\n",
        "report = classification_report(y_test, y_pred)\n",
        "\n",
        "print(\"Confusion Matrix:\")\n",
        "print(conf_matrix)\n",
        "print(f\"\\nAccuracy: {accuracy:.2f}\")\n",
        "print(f\"F1-Score: {f1:.2f}\")\n",
        "print(\"\\nClassification Report:\")\n",
        "print(report)"
      ],
      "metadata": {
        "colab": {
          "base_uri": "https://localhost:8080/",
          "height": 0
        },
        "id": "_w-H9mmm-RFc",
        "outputId": "2200856d-9e0e-4316-9b08-6805cae2d411"
      },
      "execution_count": 22,
      "outputs": [
        {
          "output_type": "stream",
          "name": "stdout",
          "text": [
            "Confusion Matrix:\n",
            "[[843 191]\n",
            " [308 381]]\n",
            "\n",
            "Accuracy: 0.71\n",
            "F1-Score: 0.60\n",
            "\n",
            "Classification Report:\n",
            "              precision    recall  f1-score   support\n",
            "\n",
            "           0       0.73      0.82      0.77      1034\n",
            "           1       0.67      0.55      0.60       689\n",
            "\n",
            "    accuracy                           0.71      1723\n",
            "   macro avg       0.70      0.68      0.69      1723\n",
            "weighted avg       0.71      0.71      0.70      1723\n",
            "\n"
          ]
        },
        {
          "output_type": "stream",
          "name": "stderr",
          "text": [
            "<ipython-input-22-f390299bb18e>:23: SettingWithCopyWarning: \n",
            "A value is trying to be set on a copy of a slice from a DataFrame.\n",
            "Try using .loc[row_indexer,col_indexer] = value instead\n",
            "\n",
            "See the caveats in the documentation: https://pandas.pydata.org/pandas-docs/stable/user_guide/indexing.html#returning-a-view-versus-a-copy\n",
            "  X[numerical_features] = scaler.fit_transform(X[numerical_features])\n"
          ]
        }
      ]
    }
  ]
}