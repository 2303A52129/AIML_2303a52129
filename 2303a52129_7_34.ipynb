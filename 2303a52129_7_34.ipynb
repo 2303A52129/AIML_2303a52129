{
  "nbformat": 4,
  "nbformat_minor": 0,
  "metadata": {
    "colab": {
      "provenance": [],
      "authorship_tag": "ABX9TyNZmUMsSQPt85+RaEdp6Mf5",
      "include_colab_link": true
    },
    "kernelspec": {
      "name": "python3",
      "display_name": "Python 3"
    },
    "language_info": {
      "name": "python"
    }
  },
  "cells": [
    {
      "cell_type": "markdown",
      "metadata": {
        "id": "view-in-github",
        "colab_type": "text"
      },
      "source": [
        "<a href=\"https://colab.research.google.com/github/2303A52129/AIML_2303a52129/blob/main/2303a52129_7_34.ipynb\" target=\"_parent\"><img src=\"https://colab.research.google.com/assets/colab-badge.svg\" alt=\"Open In Colab\"/></a>"
      ]
    },
    {
      "cell_type": "code",
      "source": [
        "import pandas as pd\n",
        "\n",
        "# File path to your uploaded CSV\n",
        "file_path = '/mnt/data/lab_excel.csv'\n",
        "\n",
        "# Load the dataset and inspect the first few rows\n",
        "data = pd.read_csv('/content/lab_excel.csv')\n",
        "print(\"Dataset Overview:\")\n",
        "print(data.head())\n",
        "print(\"\\nColumn Names:\")\n",
        "print(data.columns)\n"
      ],
      "metadata": {
        "colab": {
          "base_uri": "https://localhost:8080/"
        },
        "id": "lsga-YjL04NN",
        "outputId": "e56b6257-e390-488a-f80a-a44244d0ef21"
      },
      "execution_count": 13,
      "outputs": [
        {
          "output_type": "stream",
          "name": "stdout",
          "text": [
            "Dataset Overview:\n",
            "         Date      Time  S1_Temp  S2_Temp  S3_Temp  S4_Temp  S1_Light  \\\n",
            "0  22-12-2017  10:49:41    24.94    24.75    24.56    25.38       121   \n",
            "1  22-12-2017  10:50:12    24.94    24.75    24.56    25.44       121   \n",
            "2  22-12-2017  10:50:42    25.00    24.75    24.50    25.44       121   \n",
            "3  22-12-2017  10:51:13    25.00    24.75    24.56    25.44       121   \n",
            "4  22-12-2017  10:51:44    25.00    24.75    24.56    25.44       121   \n",
            "\n",
            "   S2_Light  S3_Light  S4_Light  S1_Sound  S2_Sound  S3_Sound  S4_Sound  \\\n",
            "0        34        53        40      0.08      0.19      0.06      0.06   \n",
            "1        33        53        40      0.93      0.05      0.06      0.06   \n",
            "2        34        53        40      0.43      0.11      0.08      0.06   \n",
            "3        34        53        40      0.41      0.10      0.10      0.09   \n",
            "4        34        54        40      0.18      0.06      0.06      0.06   \n",
            "\n",
            "   S5_CO2  S5_CO2_Slope  S6_PIR  S7_PIR  Room_Occupancy_Count  \n",
            "0     390      0.769231       0       0                     1  \n",
            "1     390      0.646154       0       0                     1  \n",
            "2     390      0.519231       0       0                     1  \n",
            "3     390      0.388462       0       0                     1  \n",
            "4     390      0.253846       0       0                     1  \n",
            "\n",
            "Column Names:\n",
            "Index(['Date', 'Time', 'S1_Temp', 'S2_Temp', 'S3_Temp', 'S4_Temp', 'S1_Light',\n",
            "       'S2_Light', 'S3_Light', 'S4_Light', 'S1_Sound', 'S2_Sound', 'S3_Sound',\n",
            "       'S4_Sound', 'S5_CO2', 'S5_CO2_Slope', 'S6_PIR', 'S7_PIR',\n",
            "       'Room_Occupancy_Count'],\n",
            "      dtype='object')\n"
          ]
        }
      ]
    },
    {
      "cell_type": "code",
      "source": [
        "print(\"Missing Values:\")\n",
        "print(data.isnull().sum())\n"
      ],
      "metadata": {
        "colab": {
          "base_uri": "https://localhost:8080/"
        },
        "id": "B6xJRCID1CUm",
        "outputId": "8a3a5720-7705-4271-fb41-e528c861adb5"
      },
      "execution_count": 14,
      "outputs": [
        {
          "output_type": "stream",
          "name": "stdout",
          "text": [
            "Missing Values:\n",
            "Date                    0\n",
            "Time                    0\n",
            "S1_Temp                 0\n",
            "S2_Temp                 0\n",
            "S3_Temp                 0\n",
            "S4_Temp                 0\n",
            "S1_Light                0\n",
            "S2_Light                0\n",
            "S3_Light                0\n",
            "S4_Light                0\n",
            "S1_Sound                0\n",
            "S2_Sound                0\n",
            "S3_Sound                0\n",
            "S4_Sound                0\n",
            "S5_CO2                  0\n",
            "S5_CO2_Slope            0\n",
            "S6_PIR                  0\n",
            "S7_PIR                  0\n",
            "Room_Occupancy_Count    0\n",
            "dtype: int64\n"
          ]
        }
      ]
    },
    {
      "cell_type": "code",
      "source": [
        "data['Time'] = pd.to_datetime(data['Time'], errors='coerce')\n"
      ],
      "metadata": {
        "colab": {
          "base_uri": "https://localhost:8080/"
        },
        "id": "PhOOR1TC1EYa",
        "outputId": "5ea20755-fcd6-4090-9c69-25e2356ad0ac"
      },
      "execution_count": 17,
      "outputs": [
        {
          "output_type": "stream",
          "name": "stderr",
          "text": [
            "<ipython-input-17-8f788cd5ad21>:1: UserWarning: Could not infer format, so each element will be parsed individually, falling back to `dateutil`. To ensure parsing is consistent and as-expected, please specify a format.\n",
            "  data['Time'] = pd.to_datetime(data['Time'], errors='coerce')\n"
          ]
        }
      ]
    },
    {
      "cell_type": "code",
      "source": [
        "occupied_data = data[data['Room_Occupancy_Count'] > 0]\n"
      ],
      "metadata": {
        "id": "J6Ndr9wp1M2L"
      },
      "execution_count": 18,
      "outputs": []
    }
  ]
}