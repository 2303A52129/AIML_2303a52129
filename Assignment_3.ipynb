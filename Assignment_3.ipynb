{
  "nbformat": 4,
  "nbformat_minor": 0,
  "metadata": {
    "colab": {
      "provenance": [],
      "authorship_tag": "ABX9TyOstZ4dvWiz3gsK+Dlv5b9f",
      "include_colab_link": true
    },
    "kernelspec": {
      "name": "python3",
      "display_name": "Python 3"
    },
    "language_info": {
      "name": "python"
    }
  },
  "cells": [
    {
      "cell_type": "markdown",
      "metadata": {
        "id": "view-in-github",
        "colab_type": "text"
      },
      "source": [
        "<a href=\"https://colab.research.google.com/github/2303A52129/AIML_2303a52129/blob/main/Assignment_3.ipynb\" target=\"_parent\"><img src=\"https://colab.research.google.com/assets/colab-badge.svg\" alt=\"Open In Colab\"/></a>"
      ]
    },
    {
      "cell_type": "markdown",
      "source": [
        "Implement Alpha-Beta Search Tree using Game Strategy\n",
        "\n",
        "Prof.Kiran Eranki\n",
        "\n",
        "Part-01: List of Tasks to Perform\n",
        "\n",
        "1.Install the Python Libraries for Game Strategy\n",
        "\n",
        "2.Implement a Game Class Constructor with - actions, is_terminal, result, utility\n",
        "\n",
        "3.Implement a Player Game using game class function"
      ],
      "metadata": {
        "id": "6RbUV_MHI-1L"
      }
    },
    {
      "cell_type": "code",
      "execution_count": 4,
      "metadata": {
        "id": "D2sCJMdoI9f6"
      },
      "outputs": [],
      "source": [
        "from collections import namedtuple, Counter, defaultdict\n",
        "import random\n",
        "import math\n",
        "import functools\n",
        "cache = functools.lru_cache(10**6)"
      ]
    },
    {
      "cell_type": "code",
      "source": [
        "class Game:\n",
        "    \"\"\"A game is similar to a problem, but it has a terminal test instead of\n",
        "    a goal test, and a utility for each terminal state. To create a game,\n",
        "    subclass this class and implement `actions`, `result`, `is_terminal`,\n",
        "    and `utility`. You will also need to set the .initial attribute to the\n",
        "    initial state; this can be done in the constructor.\"\"\"\n",
        "\n",
        "    def actions(self, state):\n",
        "        \"\"\"Return a collection of the allowable moves from this state.\"\"\"\n",
        "        raise NotImplementedError\n",
        "\n",
        "    def result(self, state, move):\n",
        "        \"\"\"Return the state that results from making a move from a state.\"\"\"\n",
        "        raise NotImplementedError\n",
        "\n",
        "    def is_terminal(self, state):\n",
        "        \"\"\"Return True if this is a final state for the game.\"\"\"\n",
        "        return not self.actions(state)\n",
        "\n",
        "    def utility(self, state, player):\n",
        "        \"\"\"Return the value of this final state to player.\"\"\"\n",
        "        raise NotImplementedError"
      ],
      "metadata": {
        "id": "dTBpzCmNKvSF"
      },
      "execution_count": 5,
      "outputs": []
    },
    {
      "cell_type": "code",
      "source": [
        "def play_game(game, strategies: dict, verbose=False):\n",
        "    \"\"\"Play a turn-taking game. `strategies` is a {player_name: function} dict,\n",
        "    where function(state, game) is used to get the player's move.\"\"\"\n",
        "    state = game.initial\n",
        "    while not game.is_terminal(state):\n",
        "        player = state.to_move\n",
        "        move = strategies[player](game, state)\n",
        "        state = game.result(state, move)\n",
        "        if verbose:\n",
        "            print('Player', player, 'move:', move)\n",
        "            print(state)\n",
        "    return state"
      ],
      "metadata": {
        "id": "kmMI0JMUK08n"
      },
      "execution_count": 6,
      "outputs": []
    },
    {
      "cell_type": "markdown",
      "source": [
        "Part-02: Implementation of Game Strategy Algorithm\n",
        "\n",
        "MiniMax Tree\n",
        "\n",
        "Alpha-Beta Search Algorithm"
      ],
      "metadata": {
        "id": "U2xKxDoSSYZn"
      }
    },
    {
      "cell_type": "code",
      "source": [
        "def minimax_search(game, state):\n",
        "    \"\"\"Search game tree to determine best move; return (value, move) pair.\"\"\"\n",
        "\n",
        "    player = state.to_move\n",
        "\n",
        "    def max_value(state):\n",
        "        if game.is_terminal(state):\n",
        "            return game.utility(state, player), None\n",
        "        v, move = -infinity, None\n",
        "        for a in game.actions(state):\n",
        "            v2, _ = min_value(game.result(state, a))\n",
        "            if v2 > v:\n",
        "                v, move = v2, a\n",
        "        return v, move\n",
        "\n",
        "    def min_value(state):\n",
        "        if game.is_terminal(state):\n",
        "            return game.utility(state, player), None\n",
        "        v, move = +infinity, None\n",
        "        for a in game.actions(state):\n",
        "            v2, _ = max_value(game.result(state, a))\n",
        "            if v2 < v:\n",
        "                v, move = v2, a\n",
        "        return v, move\n",
        "\n",
        "    return max_value(state)\n",
        "\n",
        "infinity = math.inf"
      ],
      "metadata": {
        "id": "F16pg7Z_SaXJ"
      },
      "execution_count": 7,
      "outputs": []
    }
  ]
}