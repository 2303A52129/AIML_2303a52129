{
  "nbformat": 4,
  "nbformat_minor": 0,
  "metadata": {
    "colab": {
      "provenance": [],
      "authorship_tag": "ABX9TyOJt+0Dojdg92foxeNupfXt",
      "include_colab_link": true
    },
    "kernelspec": {
      "name": "python3",
      "display_name": "Python 3"
    },
    "language_info": {
      "name": "python"
    }
  },
  "cells": [
    {
      "cell_type": "markdown",
      "metadata": {
        "id": "view-in-github",
        "colab_type": "text"
      },
      "source": [
        "<a href=\"https://colab.research.google.com/github/2303A52129/AIML_2303a52129/blob/main/Assignment2.ipynb\" target=\"_parent\"><img src=\"https://colab.research.google.com/assets/colab-badge.svg\" alt=\"Open In Colab\"/></a>"
      ]
    },
    {
      "cell_type": "markdown",
      "source": [
        "Part 1 – Implement Breadth First Search Algorithm using a Queue\n",
        "1. Given a graph with adjacency list and a starting vertex and we have to traverse the\n",
        "graph.\n",
        "2. We will first print the value in the starting vertex,\n",
        "3. Continue to print the value of neighbors of the starting vertex and\n",
        "4. Next move on to the ne"
      ],
      "metadata": {
        "id": "ZotouBtLB0Fm"
      }
    },
    {
      "cell_type": "code",
      "execution_count": null,
      "metadata": {
        "colab": {
          "base_uri": "https://localhost:8080/"
        },
        "id": "OLcICA3x-yjD",
        "outputId": "3e42e67c-da62-4048-ead9-143e3b3747f7"
      },
      "outputs": [
        {
          "output_type": "stream",
          "name": "stdout",
          "text": [
            "{0: [1, 3], 1: [0, 2, 3], 2: [1, 4, 5], 3: [0, 1, 4], 4: [2, 3, 5], 5: [2, 4]}\n"
          ]
        }
      ],
      "source": [
        "from queue import Queue\n",
        "graph={0:[1,3],1:[0,2,3],2:[1,4,5],3:[0,1,4],4:[2,3,5],5:[2,4]}\n",
        "print(graph)"
      ]
    },
    {
      "cell_type": "code",
      "source": [
        "def bfs(graph,source):\n",
        "  Q=Queue()\n",
        "  visited_vertices=set()\n",
        "  Q.put(source)\n",
        "  visited_vertices.update({0})\n",
        "  while not Q.empty():\n",
        "    vertex=Q.get()\n",
        "    print(vertex,end=\"-->\")\n",
        "    for u in graph[vertex]:\n",
        "      if u not in visited_vertices:\n",
        "        Q.put(u)\n",
        "        visited_vertices.update({u})\n",
        "print(\"BFs traversal of graph with source 0 is:\")\n",
        "bfs(graph,0)\n"
      ],
      "metadata": {
        "colab": {
          "base_uri": "https://localhost:8080/",
          "height": 106
        },
        "id": "qlnhLfPuCDz6",
        "outputId": "1d8e5fbb-46c5-4464-9551-74d76ab2e768"
      },
      "execution_count": 3,
      "outputs": [
        {
          "output_type": "error",
          "ename": "SyntaxError",
          "evalue": "invalid syntax. Perhaps you forgot a comma? (<ipython-input-3-573e96d862b0>, line 13)",
          "traceback": [
            "\u001b[0;36m  File \u001b[0;32m\"<ipython-input-3-573e96d862b0>\"\u001b[0;36m, line \u001b[0;32m13\u001b[0m\n\u001b[0;31m    print(\"BFs traversal of graph with source 0 is:\"bfs(graph,0))\u001b[0m\n\u001b[0m          ^\u001b[0m\n\u001b[0;31mSyntaxError\u001b[0m\u001b[0;31m:\u001b[0m invalid syntax. Perhaps you forgot a comma?\n"
          ]
        }
      ]
    },
    {
      "cell_type": "markdown",
      "source": [
        "Part 2 – Implement Depth First Search Algorithm using a Stack\n",
        "0.1 DFS Stack implementations steps to be followed:\n",
        "1. Start at the root node and push it onto the stack.\n",
        "2. Check for any adjacent nodes of the tree and select one node.\n",
        "3. Traverse the entire branch of the selected node and push all the nodes into the stack.\n",
        "4. Upon reaching the end of a branch (no more adjacent nodes) ie nth leaf node, move\n",
        "back by a single step and look for adjacent nodes of the n-1th node.\n",
        "5. If there are adjacent nodes for the n-1th node, traverse those branches and push nodes\n",
        "onto the stack.                 "
      ],
      "metadata": {
        "id": "h3MQUtQn8KjY"
      }
    },
    {
      "cell_type": "code",
      "source": [
        "from queue import Queue\n",
        "graph={\n",
        "    'A':['B','S'],\n",
        "    'B':['A'],\n",
        "    'C':['S','D','E','F'],\n",
        "    'D':['C'],\n",
        "    'E':['C','H'],\n",
        "    'F':['C','G'],\n",
        "    'G':['S','F','H'],\n",
        "    'H':['G','E'],\n",
        "    'S':['A','C','G']\n",
        "}\n",
        "print(graph)"
      ],
      "metadata": {
        "id": "J8RHVy5P-m44",
        "outputId": "25112eb6-676e-4b87-c6a0-e8d8a079e2f0",
        "colab": {
          "base_uri": "https://localhost:8080/"
        }
      },
      "execution_count": 14,
      "outputs": [
        {
          "output_type": "stream",
          "name": "stdout",
          "text": [
            "{'A': ['B', 'S'], 'B': ['A'], 'C': ['S', 'D', 'E', 'F'], 'D': ['C'], 'E': ['C', 'H'], 'F': ['C', 'G'], 'G': ['S', 'F', 'H'], 'H': ['G', 'E'], 'S': ['A', 'C', 'G']}\n"
          ]
        }
      ]
    },
    {
      "cell_type": "code",
      "source": [
        "def dfs(graph,node,visited):\n",
        "  if node not in  visited:\n",
        "    visited.append(node)\n",
        "    for k in graph[node]:\n",
        "      dfs(graph,k,visited)\n",
        "  return visited\n",
        "visited=dfs(graph,'D',[])\n",
        "print(visited)"
      ],
      "metadata": {
        "id": "q-8uUAL6C0Of",
        "outputId": "adfce78a-2c35-464b-c9fc-2a5b2af20408",
        "colab": {
          "base_uri": "https://localhost:8080/"
        }
      },
      "execution_count": 20,
      "outputs": [
        {
          "output_type": "stream",
          "name": "stdout",
          "text": [
            "['D', 'C', 'S', 'A', 'B', 'G', 'F', 'H', 'E']\n"
          ]
        }
      ]
    }
  ]
}